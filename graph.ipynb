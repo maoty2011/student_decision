{
 "cells": [
  {
   "cell_type": "code",
   "execution_count": 7,
   "metadata": {},
   "outputs": [
    {
     "name": "stdout",
     "output_type": "stream",
     "text": [
      "[116.96000000000002, 226.26000000000005, 505.67000000000024, 684.5000000000003, 873.8700000000005, 1085.4000000000003, 1299.120000000001, 1489.0400000000009, 1725.0800000000008, 1985.07, 2267.090000000001, 2490.61, 2718.78, 2904.2800000000025, 3177.8900000000044, 3395.510000000005, 3536.030000000005, 3813.120000000006, 4130.4300000000085, 4379.870000000008, 4673.520000000011, 4981.350000000011, 5106.610000000017, 5304.560000000019, 5516.680000000021, 5668.190000000019, 5902.020000000018, 6056.460000000016, 6224.660000000022]\n"
     ]
    }
   ],
   "source": [
    "import json\n",
    "import matplotlib.pyplot as plt\n",
    "revenue=0\n",
    "time=0\n",
    "revenue_vals=[]\n",
    "\n",
    "for i in range(0,10):\n",
    "    transcript_file_name=\"data\"+str(i)+\"/transcript.json\"\n",
    "    with open(transcript_file_name,'r') as transcript_file:\n",
    "        for line_number, line in enumerate(transcript_file):\n",
    "            text=line.strip()\n",
    "            if text !='':\n",
    "                record=json.loads(text)\n",
    "                if record['event']=='transaction':\n",
    "                    revenue=revenue+record['value']['amount']\n",
    "                if record['event']=='offer completed':\n",
    "                    revenue=revenue-record['value']['reward']\n",
    "                if record['time']>time:\n",
    "                    revenue_vals.append(revenue)\n",
    "                time=record['time']\n",
    "                \n",
    "print(revenue_vals)"
   ]
  },
  {
   "cell_type": "code",
   "execution_count": 8,
   "metadata": {},
   "outputs": [
    {
     "data": {
      "text/plain": [
       "[<matplotlib.lines.Line2D at 0x801af98>]"
      ]
     },
     "execution_count": 8,
     "metadata": {},
     "output_type": "execute_result"
    },
    {
     "data": {
      "image/png": "[encoded data removed]",
      "text/plain": [
       "<matplotlib.figure.Figure at 0x6146630>"
      ]
     },
     "metadata": {},
     "output_type": "display_data"
    }
   ],
   "source": [
    "plt.plot(revenue_vals)"
   ]
  },
  {
   "cell_type": "code",
   "execution_count": null,
   "metadata": {
    "collapsed": true
   },
   "outputs": [],
   "source": []
  }
 ],
 "metadata": {
  "kernelspec": {
   "display_name": "Python 2",
   "language": "python",
   "name": "python2"
  },
  "language_info": {
   "codemirror_mode": {
    "name": "ipython",
    "version": 2
   },
   "file_extension": ".py",
   "mimetype": "text/x-python",
   "name": "python",
   "nbconvert_exporter": "python",
   "pygments_lexer": "ipython2",
   "version": "2.7.13"
  }
 },
 "nbformat": 4,
 "nbformat_minor": 2
}
