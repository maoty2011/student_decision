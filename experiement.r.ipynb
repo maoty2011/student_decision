{
 "cells": [
  {
   "cell_type": "code",
   "execution_count": 1,
   "metadata": {
    "collapsed": true
   },
   "outputs": [],
   "source": [
    "import experimentr as expr\n",
    "import argparse\n",
    "import sys"
   ]
  },
  {
   "cell_type": "code",
   "execution_count": 2,
   "metadata": {},
   "outputs": [
    {
     "name": "stdout",
     "output_type": "stream",
     "text": [
      "eda\n"
     ]
    }
   ],
   "source": [
    "class pp(object):\n",
    "    def __init__(self):\n",
    "        self.data_path = 'eda'\n",
    "        self.n_proc = 1\n",
    "\n",
    "tel = pp()\n",
    "print tel.data_path"
   ]
  },
  {
   "cell_type": "code",
   "execution_count": 3,
   "metadata": {},
   "outputs": [
    {
     "name": "stdout",
     "output_type": "stream",
     "text": [
      "historical - bogo_a: 8f113adbac7542f49dc6d9231d20f357\n",
      "historical - bogo_b: 56dd0eebe41048989bdad4214c15bfa4\n",
      "historical - discount_c: 8aacda4923ee4444a4ee52ec578d554a\n",
      "historical - discount_d: c634b193ef4e4d0faaa41cc42a0fd6e1\n",
      "historical - info_e: b7c87fc25de04559b443dc656efd59b9\n",
      "new - bogo_y: 8c90ae7a735c44c8ad9ff85b289ccc69\n",
      "new - bogo_z: f283eebd18104ffe869c611237cb651f\n",
      "new - discount_w: c2231b9ea2a34762b3c78e04d83d7d74\n",
      "new - discount_x: 6234ef3081884c7f9b7391158cfb2e66\n",
      "new - info_v: b8292dfa23dc49b2bc949146383d5dc7\n",
      "\n",
      "Starting day 0, subpop_len=10000, sample_size_per_day=1666\n",
      "0.0 of 1.0 days finished (time = 0.0, delta = 0.0).\n",
      "0.5 of 1.0 days finished (time = 1.19, delta = 1.19).\n",
      "Starting day 1, subpop_len=8334, sample_size_per_day=1666\n",
      "1.0 of 1.0 days finished (time = 0.0, delta = 0.0).\n",
      "1.5 of 1.0 days finished (time = 1.032, delta = 1.032).\n",
      "Starting day 2, subpop_len=6668, sample_size_per_day=1666\n",
      "2.0 of 1.0 days finished (time = 0.0, delta = 0.0).\n",
      "2.5 of 1.0 days finished (time = 0.954, delta = 0.954).\n",
      "Starting day 3, subpop_len=5002, sample_size_per_day=1666\n",
      "3.0 of 1.0 days finished (time = 0.0, delta = 0.0).\n",
      "3.5 of 1.0 days finished (time = 0.924, delta = 0.924).\n",
      "Starting day 4, subpop_len=3336, sample_size_per_day=1666\n",
      "4.0 of 1.0 days finished (time = 0.0, delta = 0.0).\n",
      "4.5 of 1.0 days finished (time = 0.871, delta = 0.871).\n",
      "Starting day 5, subpop_len=1670, sample_size_per_day=1666\n",
      "5.0 of 1.0 days finished (time = 0.0, delta = 0.0).\n",
      "5.5 of 1.0 days finished (time = 0.792, delta = 0.792).\n",
      "Starting day 6, subpop_len=4, sample_size_per_day=1666\n",
      "6.0 of 1.0 days finished (time = 0.0, delta = 0.0).\n",
      "6.5 of 1.0 days finished (time = 0.594, delta = 0.594).\n",
      "Starting day 7, subpop_len=0, sample_size_per_day=1666\n",
      "7.0 of 1.0 days finished (time = 0.0, delta = 0.0).\n",
      "7.5 of 1.0 days finished (time = 0.554, delta = 0.554).\n",
      "Starting day 8, subpop_len=0, sample_size_per_day=1666\n",
      "8.0 of 1.0 days finished (time = 0.0, delta = 0.0).\n",
      "8.5 of 1.0 days finished (time = 0.536, delta = 0.536).\n",
      "Starting day 9, subpop_len=0, sample_size_per_day=1666\n",
      "9.0 of 1.0 days finished (time = 0.0, delta = 0.0).\n",
      "9.5 of 1.0 days finished (time = 0.532, delta = 0.532).\n",
      "Starting day 10, subpop_len=0, sample_size_per_day=1666\n",
      "10.0 of 1.0 days finished (time = 0.0, delta = 0.0).\n",
      "10.5 of 1.0 days finished (time = 0.512, delta = 0.512).\n",
      "Starting day 11, subpop_len=0, sample_size_per_day=1666\n",
      "11.0 of 1.0 days finished (time = 0.0, delta = 0.0).\n",
      "11.5 of 1.0 days finished (time = 0.523, delta = 0.523).\n",
      "Starting day 12, subpop_len=0, sample_size_per_day=1666\n",
      "12.0 of 1.0 days finished (time = 0.0, delta = 0.0).\n",
      "12.5 of 1.0 days finished (time = 0.523, delta = 0.523).\n",
      "Starting day 13, subpop_len=0, sample_size_per_day=1666\n",
      "13.0 of 1.0 days finished (time = 0.0, delta = 0.0).\n",
      "13.5 of 1.0 days finished (time = 0.486, delta = 0.486).\n",
      "Starting day 14, subpop_len=0, sample_size_per_day=1666\n",
      "14.0 of 1.0 days finished (time = 0.0, delta = 0.0).\n",
      "14.5 of 1.0 days finished (time = 0.492, delta = 0.492).\n",
      "Starting day 15, subpop_len=0, sample_size_per_day=1666\n",
      "15.0 of 1.0 days finished (time = 0.0, delta = 0.0).\n",
      "15.5 of 1.0 days finished (time = 0.469, delta = 0.469).\n",
      "Starting day 16, subpop_len=0, sample_size_per_day=1666\n",
      "16.0 of 1.0 days finished (time = 0.0, delta = 0.0).\n",
      "16.5 of 1.0 days finished (time = 0.534, delta = 0.534).\n",
      "Starting day 17, subpop_len=0, sample_size_per_day=1666\n",
      "17.0 of 1.0 days finished (time = 0.0, delta = 0.0).\n",
      "17.5 of 1.0 days finished (time = 0.504, delta = 0.504).\n",
      "Starting day 18, subpop_len=0, sample_size_per_day=1666\n",
      "18.0 of 1.0 days finished (time = 0.0, delta = 0.0).\n",
      "18.5 of 1.0 days finished (time = 0.469, delta = 0.469).\n",
      "Starting day 19, subpop_len=0, sample_size_per_day=1666\n",
      "19.0 of 1.0 days finished (time = 0.0, delta = 0.0).\n",
      "19.5 of 1.0 days finished (time = 0.505, delta = 0.505).\n",
      "Starting day 20, subpop_len=0, sample_size_per_day=1666\n",
      "20.0 of 1.0 days finished (time = 0.0, delta = 0.0).\n",
      "20.5 of 1.0 days finished (time = 0.487, delta = 0.487).\n",
      "Starting day 21, subpop_len=0, sample_size_per_day=1666\n",
      "21.0 of 1.0 days finished (time = 0.0, delta = 0.0).\n",
      "21.5 of 1.0 days finished (time = 0.489, delta = 0.489).\n",
      "Starting day 22, subpop_len=0, sample_size_per_day=1666\n",
      "22.0 of 1.0 days finished (time = 0.0, delta = 0.0).\n",
      "22.5 of 1.0 days finished (time = 0.49, delta = 0.49).\n",
      "Starting day 23, subpop_len=0, sample_size_per_day=1666\n",
      "23.0 of 1.0 days finished (time = 0.0, delta = 0.0).\n",
      "23.5 of 1.0 days finished (time = 0.511, delta = 0.511).\n",
      "Starting day 24, subpop_len=0, sample_size_per_day=1666\n",
      "24.0 of 1.0 days finished (time = 0.0, delta = 0.0).\n",
      "24.5 of 1.0 days finished (time = 0.498, delta = 0.498).\n",
      "Starting day 25, subpop_len=0, sample_size_per_day=1666\n",
      "25.0 of 1.0 days finished (time = 0.0, delta = 0.0).\n",
      "25.5 of 1.0 days finished (time = 0.491, delta = 0.491).\n",
      "Starting day 26, subpop_len=0, sample_size_per_day=1666\n",
      "26.0 of 1.0 days finished (time = 0.0, delta = 0.0).\n",
      "26.5 of 1.0 days finished (time = 0.495, delta = 0.495).\n",
      "Starting day 27, subpop_len=0, sample_size_per_day=1666\n",
      "27.0 of 1.0 days finished (time = 0.0, delta = 0.0).\n",
      "27.5 of 1.0 days finished (time = 0.466, delta = 0.466).\n",
      "Starting day 28, subpop_len=0, sample_size_per_day=1666\n",
      "28.0 of 1.0 days finished (time = 0.0, delta = 0.0).\n",
      "28.5 of 1.0 days finished (time = 0.483, delta = 0.483).\n",
      "Starting day 29, subpop_len=0, sample_size_per_day=1666\n",
      "29.0 of 1.0 days finished (time = 0.0, delta = 0.0).\n",
      "29.5 of 1.0 days finished (time = 0.466, delta = 0.466).\n"
     ]
    },
    {
     "data": {
      "text/plain": [
       "<population.Population at 0xe674780>"
      ]
     },
     "execution_count": 3,
     "metadata": {},
     "output_type": "execute_result"
    }
   ],
   "source": [
    "expr.main(tel)"
   ]
  },
  {
   "cell_type": "code",
   "execution_count": null,
   "metadata": {
    "collapsed": true
   },
   "outputs": [],
   "source": []
  }
 ],
 "metadata": {
  "kernelspec": {
   "display_name": "Python 2",
   "language": "python",
   "name": "python2"
  },
  "language_info": {
   "codemirror_mode": {
    "name": "ipython",
    "version": 2
   },
   "file_extension": ".py",
   "mimetype": "text/x-python",
   "name": "python",
   "nbconvert_exporter": "python",
   "pygments_lexer": "ipython2",
   "version": "2.7.13"
  }
 },
 "nbformat": 4,
 "nbformat_minor": 2
}
