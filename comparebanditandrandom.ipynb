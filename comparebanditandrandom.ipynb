{
 "cells": [
  {
   "cell_type": "code",
   "execution_count": 1,
   "metadata": {
    "collapsed": true
   },
   "outputs": [],
   "source": [
    "import pandas as pd\n",
    "import numpy as np\n",
    "import matplotlib.pyplot as plt\n",
    "import json\n",
    "from datetime import datetime, timedelta\n",
    "\n",
    "from population import Population\n",
    "\n",
    "%matplotlib inline"
   ]
  },
  {
   "cell_type": "code",
   "execution_count": 2,
   "metadata": {
    "collapsed": true
   },
   "outputs": [],
   "source": [
    "population_file_name = 'bdata/population.json'\n",
    "population = Population.from_json(population_file_name)\n",
    "population_random_file_name='edata/population.json'\n",
    "population_random=Population.from_json(population_random_file_name)\n",
    "            "
   ]
  },
  {
   "cell_type": "code",
   "execution_count": 3,
   "metadata": {
    "collapsed": true
   },
   "outputs": [],
   "source": [
    "stats = dict([(person_id, {'group': (person_id, 'control'),\n",
    "                               'received': 0,\n",
    "                               'viewed': 0,\n",
    "                               'completed': 0,\n",
    "                               'trx': 0,\n",
    "                               'spend': 0.00}) for person_id in population.people])\n",
    "\n",
    "revenue_history = dict()\n",
    "\n",
    "read_files=[]\n",
    "for k in range(0,10):\n",
    "    read_files.append('bdata%s/transcript.json' % k)\n",
    "    for f in read_files:\n",
    "        with open(f, 'r') as transcript_file:\n",
    "            for line_number, line in enumerate(transcript_file):\n",
    "                text = line.strip()\n",
    "                if text != '':\n",
    "                    record = json.loads(text)\n",
    "                else:\n",
    "                    continue\n",
    "\n",
    "                if record['event'] == 'offer received':\n",
    "                    stats[record['person']]['received'] += 1\n",
    "\n",
    "                if record['event'] == 'offer viewed':\n",
    "                    stats[record['person']]['viewed'] += 1\n",
    "\n",
    "                if record['event'] == 'offer completed':\n",
    "                    stats[record['person']]['completed'] += 1\n",
    "                    t = record['time']\n",
    "                    revenue_history.setdefault(t, list())\n",
    "                    revenue_history[t].append(-record['value']['reward'])\n",
    "\n",
    "                if record['event'] == 'transaction':\n",
    "                    stats[record['person']]['trx'] += 1\n",
    "                    stats[record['person']]['spend'] += record['value']['amount']\n",
    "                    t = record['time']\n",
    "                    revenue_history.setdefault(t, list())\n",
    "                    revenue_history[t].append(record['value']['amount'])\n"
   ]
  },
  {
   "cell_type": "code",
   "execution_count": 4,
   "metadata": {
    "collapsed": true
   },
   "outputs": [],
   "source": [
    "stats_random = dict([(person_id, {'group': (person_id, 'control'),\n",
    "                               'received': 0,\n",
    "                               'viewed': 0,\n",
    "                               'completed': 0,\n",
    "                               'trx': 0,\n",
    "                               'spend': 0.00}) for person_id in population_random.people])\n",
    "\n",
    "revenue_history_random = dict()\n",
    "\n",
    "read_files=[]\n",
    "for k in range(0,10):\n",
    "    read_files.append('edata%s/transcript.json' % k)\n",
    "    for f in read_files:\n",
    "        with open(f, 'r') as transcript_file:\n",
    "            for line_number, line in enumerate(transcript_file):\n",
    "                text = line.strip()\n",
    "                if text != '':\n",
    "                    record = json.loads(text)\n",
    "                else:\n",
    "                    continue\n",
    "\n",
    "                if record['event'] == 'offer received':\n",
    "                    stats_random[record['person']]['received'] += 1\n",
    "\n",
    "                if record['event'] == 'offer viewed':\n",
    "                    stats_random[record['person']]['viewed'] += 1\n",
    "\n",
    "                if record['event'] == 'offer completed':\n",
    "                    stats_random[record['person']]['completed'] += 1\n",
    "                    t = record['time']\n",
    "                    revenue_history_random.setdefault(t, list())\n",
    "                    revenue_history_random[t].append(-record['value']['reward'])\n",
    "\n",
    "                if record['event'] == 'transaction':\n",
    "                    stats_random[record['person']]['trx'] += 1\n",
    "                    stats_random[record['person']]['spend'] += record['value']['amount']\n",
    "                    t = record['time']\n",
    "                    revenue_history_random.setdefault(t, list())\n",
    "                    revenue_history_random[t].append(record['value']['amount'])\n"
   ]
  },
  {
   "cell_type": "code",
   "execution_count": 5,
   "metadata": {
    "collapsed": true
   },
   "outputs": [],
   "source": [
    "min_t = min(revenue_history.keys())\n",
    "cumulative_reward = [(min_t,0),]\n",
    "for t, rev in sorted(revenue_history.iteritems()):\n",
    "    np.random.shuffle(rev)\n",
    "    for x in rev:\n",
    "        cumulative_reward.append((t, cumulative_reward[-1][1] + x))\n"
   ]
  },
  {
   "cell_type": "code",
   "execution_count": 6,
   "metadata": {
    "collapsed": true
   },
   "outputs": [],
   "source": [
    "min_t = min(revenue_history_random.keys())\n",
    "cumulative_reward_random = [(min_t,0),]\n",
    "for t, rev in sorted(revenue_history_random.iteritems()):\n",
    "    np.random.shuffle(rev)\n",
    "    for x in rev:\n",
    "        cumulative_reward_random.append((t, cumulative_reward_random[-1][1] + x))\n"
   ]
  },
  {
   "cell_type": "code",
   "execution_count": 7,
   "metadata": {
    "collapsed": true
   },
   "outputs": [],
   "source": [
    "newarray=[[0,0]]\n",
    "for entry in cumulative_reward:\n",
    "    if entry[0]>newarray[len(newarray)-1][0]:\n",
    "        newarray.append([entry[0], entry[1]])\n",
    "    elif entry[1]>newarray[len(newarray)-1][1]:\n",
    "        newarray[len(newarray)-1][1]=entry[1]"
   ]
  },
  {
   "cell_type": "code",
   "execution_count": 8,
   "metadata": {
    "collapsed": true
   },
   "outputs": [],
   "source": [
    "newarray_random=[[0,0]]\n",
    "for entry in cumulative_reward_random:\n",
    "    if entry[0]>newarray_random[len(newarray_random)-1][0]:\n",
    "        newarray_random.append([entry[0], entry[1]])\n",
    "    elif entry[1]>newarray_random[len(newarray_random)-1][1]:\n",
    "        newarray_random[len(newarray_random)-1][1]=entry[1]\n",
    " "
   ]
  },
  {
   "cell_type": "code",
   "execution_count": 9,
   "metadata": {},
   "outputs": [
    {
     "data": {
      "text/plain": [
       "[<matplotlib.lines.Line2D at 0x1ffc74e0>,\n",
       " <matplotlib.lines.Line2D at 0x1ffc76d8>]"
      ]
     },
     "execution_count": 9,
     "metadata": {},
     "output_type": "execute_result"
    },
    {
     "data": {
      "image/png": "[encoded data removed]",
      "text/plain": [
       "<matplotlib.figure.Figure at 0x17b984e0>"
      ]
     },
     "metadata": {},
     "output_type": "display_data"
    }
   ],
   "source": [
    "plt.plot(newarray)"
   ]
  },
  {
   "cell_type": "code",
   "execution_count": 10,
   "metadata": {},
   "outputs": [
    {
     "data": {
      "image/png": "[encoded data removed]",
      "text/plain": [
       "<matplotlib.figure.Figure at 0x2008b4e0>"
      ]
     },
     "metadata": {},
     "output_type": "display_data"
    }
   ],
   "source": [
    "plt.plot(newarray)\n",
    "plt.plot(newarray_random,'--r')\n",
    "plt.show()"
   ]
  },
  {
   "cell_type": "code",
   "execution_count": 11,
   "metadata": {},
   "outputs": [
    {
     "name": "stdout",
     "output_type": "stream",
     "text": [
      "679194.79 850756.92\n",
      "492124.37 596795.35\n"
     ]
    }
   ],
   "source": [
    "print newarray_random[-1][1],newarray[-1][1]\n",
    "print newarray_random[60][1],newarray[60][1]"
   ]
  },
  {
   "cell_type": "code",
   "execution_count": null,
   "metadata": {
    "collapsed": true
   },
   "outputs": [],
   "source": []
  }
 ],
 "metadata": {
  "kernelspec": {
   "display_name": "Python 2",
   "language": "python",
   "name": "python2"
  },
  "language_info": {
   "codemirror_mode": {
    "name": "ipython",
    "version": 2
   },
   "file_extension": ".py",
   "mimetype": "text/x-python",
   "name": "python",
   "nbconvert_exporter": "python",
   "pygments_lexer": "ipython2",
   "version": "2.7.13"
  }
 },
 "nbformat": 4,
 "nbformat_minor": 2
}
