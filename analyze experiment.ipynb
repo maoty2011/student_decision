{
 "cells": [
  {
   "cell_type": "code",
   "execution_count": 4,
   "metadata": {
    "collapsed": true
   },
   "outputs": [],
   "source": [
    "import pandas as pd\n",
    "import numpy as np\n",
    "import matplotlib.pyplot as plt\n",
    "import json\n",
    "from datetime import datetime, timedelta\n",
    "\n",
    "from population import Population\n",
    "\n",
    "%matplotlib inline"
   ]
  },
  {
   "cell_type": "code",
   "execution_count": 5,
   "metadata": {
    "collapsed": true
   },
   "outputs": [],
   "source": [
    "population_file_name = 'cdata/population.json'\n",
    "population = Population.from_json(population_file_name)"
   ]
  },
  {
   "cell_type": "code",
   "execution_count": 11,
   "metadata": {},
   "outputs": [
    {
     "name": "stdout",
     "output_type": "stream",
     "text": [
      "5000\n",
      "{'world_time': 0, 'world_time_tick': 6, 'real_time_tick': 0.0}\n",
      "cdata0/transcript.json\n",
      "{'last_viewed_offer': None, 'taste': {'weights': [1, 1, 1, 1, 1], 'names': ['sweet', 'sour', 'salty', 'bitter', 'umami']}, 'marketing_segment': {'weights': [1, 1, 1, 1, 1, 1], 'names': [u'front page', u'local', u'entertainment', u'sports', u'opinion', u'comics']}, 'view_offer_sensitivity': {'weights': [-5.3862943611198908, -0.0063821109029647081, 0.0, 1.0, 1.0, 2.0], 'names': ['background', 'offer_age', 'web', 'email', 'mobile', 'social']}, 'last_transaction': None, 'last_unviewed_offer': None, 'id': u'8f05f7e60cd54246a98fa36040bf11bc', 'dob': u'19920205', 'gender': u'F', 'purchase_amount_sensitivity': {'weights': [1, 1, 0, 0, 0, 0, 0, 0, 0, 0, 0, 0, 0], 'names': ['background', 'income_adjusted_purchase_sensitivity', 'front page', 'local', 'entertainment', 'sports', 'opinion', 'comics', 'sweet', 'sour', 'salty', 'bitter', 'umami']}, 'make_purchase_sensitivity': {'weights': [-3.1354942159291497, 0.00305170080185586, 1.0, 1.0], 'names': ['background', 'time_since_last_transaction', 'last_viewed_offer_strength', 'viewed_active_offer']}, 'became_member_on': u'20170407', 'income': None, 'history': []}\n",
      "None\n",
      "[]\n",
      "[1]\n"
     ]
    }
   ],
   "source": [
    "print len(population.people)\n",
    "print population.world.to_serializable()\n",
    "print population.transcript_file_name\n",
    "population.transcript_file_name = 'cdata0/transcript.json'\n",
    "#print population.portfolio.values()[0].to_serializable()\n",
    "print population.people.values()[0].to_serializable()\n",
    "print population.people.values()[0].last_viewed_offer\n",
    "print population.people.values()[0].history\n",
    "\n",
    "for person in population.people.values():\n",
    "    person.last_viewed_offer = None\n",
    "    person.history = [1]\n",
    "\n",
    "print population.people.values()[0].history\n",
    "\n",
    "#import THEkpi\n",
    "#import KPIs_segmented\n",
    "\n",
    "#print THEkpi.THEKPI(population,population.people)\n",
    "#print KPIs_segmented.KPI2(population,population.people)\n",
    "#print KPIs_segmented.KPI3(population,population.people)\n",
    "#print KPIs_segmented.KPI4(population,population.people,debugging=True)\n",
    "#print KPIs_segmented.KPI5(population,population.people)\n",
    "#print KPIs_segmented.KPI6(population,population.people)"
   ]
  },
  {
   "cell_type": "code",
   "execution_count": 8,
   "metadata": {},
   "outputs": [
    {
     "data": {
      "image/png": "[encoded data removed]",
      "text/plain": [
       "<matplotlib.figure.Figure at 0xd9c6c18>"
      ]
     },
     "metadata": {},
     "output_type": "display_data"
    }
   ],
   "source": [
    "dt_fmt = '%Y%m%d'\n",
    "now = datetime.strptime('20170718', dt_fmt)\n",
    "\n",
    "ages = list()\n",
    "for person in population.people.values():\n",
    "    if person.dob is not None:\n",
    "        age = now - datetime.strptime(person.dob, dt_fmt)\n",
    "        if age.days/365.25 < 100:\n",
    "            ages.append(age.days/365.25)\n",
    "\n",
    "plt.hist(ages, bins=40, normed=True, alpha=0.2);"
   ]
  },
  {
   "cell_type": "code",
   "execution_count": 9,
   "metadata": {},
   "outputs": [
    {
     "ename": "IOError",
     "evalue": "[Errno 2] No such file or directory: 'cluster_data0/transcript.json'",
     "output_type": "error",
     "traceback": [
      "\u001b[1;31m---------------------------------------------------------------------------\u001b[0m",
      "\u001b[1;31mIOError\u001b[0m                                   Traceback (most recent call last)",
      "\u001b[1;32m<ipython-input-9-693f68422dc8>\u001b[0m in \u001b[0;36m<module>\u001b[1;34m()\u001b[0m\n\u001b[0;32m      5\u001b[0m \u001b[1;33m\u001b[0m\u001b[0m\n\u001b[0;32m      6\u001b[0m \u001b[0mtranscript_file_name\u001b[0m \u001b[1;33m=\u001b[0m \u001b[1;34m'cluster_data0/transcript.json'\u001b[0m\u001b[1;33m\u001b[0m\u001b[0m\n\u001b[1;32m----> 7\u001b[1;33m \u001b[1;32mwith\u001b[0m \u001b[0mopen\u001b[0m\u001b[1;33m(\u001b[0m\u001b[0mtranscript_file_name\u001b[0m\u001b[1;33m,\u001b[0m \u001b[1;34m'r'\u001b[0m\u001b[1;33m)\u001b[0m \u001b[1;32mas\u001b[0m \u001b[0mtranscript_file\u001b[0m\u001b[1;33m:\u001b[0m\u001b[1;33m\u001b[0m\u001b[0m\n\u001b[0m\u001b[0;32m      8\u001b[0m     \u001b[1;32mfor\u001b[0m \u001b[0mline_number\u001b[0m\u001b[1;33m,\u001b[0m \u001b[0mline\u001b[0m \u001b[1;32min\u001b[0m \u001b[0menumerate\u001b[0m\u001b[1;33m(\u001b[0m\u001b[0mtranscript_file\u001b[0m\u001b[1;33m)\u001b[0m\u001b[1;33m:\u001b[0m\u001b[1;33m\u001b[0m\u001b[0m\n\u001b[0;32m      9\u001b[0m         \u001b[0mtext\u001b[0m \u001b[1;33m=\u001b[0m \u001b[0mline\u001b[0m\u001b[1;33m.\u001b[0m\u001b[0mstrip\u001b[0m\u001b[1;33m(\u001b[0m\u001b[1;33m)\u001b[0m\u001b[1;33m\u001b[0m\u001b[0m\n",
      "\u001b[1;31mIOError\u001b[0m: [Errno 2] No such file or directory: 'cluster_data0/transcript.json'"
     ]
    }
   ],
   "source": [
    "stats = dict([(person_id, {'group': 'control',\n",
    "                           'viewed': 0,\n",
    "                           'trx': 0,\n",
    "                           'spend': 0.00}) for person_id in population.people])\n",
    "\n",
    "transcript_file_name = 'cluster_data0/transcript.json'\n",
    "with open(transcript_file_name, 'r') as transcript_file:\n",
    "    for line_number, line in enumerate(transcript_file):\n",
    "        text = line.strip()\n",
    "        if text != '':\n",
    "            record = json.loads(text)\n",
    "        \n",
    "        if record['event'] == 'offer received':\n",
    "            stats[record['person']]['group'] = 'target'\n",
    "        \n",
    "        if record['event'] == 'offer viewed':\n",
    "            stats[record['person']]['viewed'] += 1\n",
    "        \n",
    "        if record['event'] == 'transaction':\n",
    "            stats[record['person']]['trx'] += 1\n",
    "            stats[record['person']]['spend'] += record['value']['amount']"
   ]
  },
  {
   "cell_type": "code",
   "execution_count": 25,
   "metadata": {},
   "outputs": [
    {
     "data": {
      "image/png": "[encoded data removed]",
      "text/plain": [
       "<matplotlib.figure.Figure at 0xde54668>"
      ]
     },
     "metadata": {},
     "output_type": "display_data"
    },
    {
     "data": {
      "image/png": "[encoded data removed]",
      "text/plain": [
       "<matplotlib.figure.Figure at 0xdb14240>"
      ]
     },
     "metadata": {},
     "output_type": "display_data"
    },
    {
     "data": {
      "image/png": "[encoded data removed]",
      "text/plain": [
       "<matplotlib.figure.Figure at 0xdb43ba8>"
      ]
     },
     "metadata": {},
     "output_type": "display_data"
    }
   ],
   "source": [
    "group_stats = {'target': {'viewed': list(), 'trx': list(), 'spend': list()},\n",
    "               'control': {'viewed': list(), 'trx': list(), 'spend': list()}}\n",
    "\n",
    "for val in stats.values():\n",
    "    group = val['group']\n",
    "    for field in ['viewed', 'trx', 'spend']:\n",
    "        group_stats[group][field].append(val[field])\n",
    "\n",
    "plt.hist(group_stats['target']['viewed'], bins=40, normed=True, alpha=0.2);\n",
    "plt.hist(group_stats['control']['viewed'], bins=40, normed=True, alpha=0.2);\n",
    "plt.show()\n",
    "\n",
    "plt.hist(group_stats['target']['trx'], bins=40, normed=True, alpha=0.2);\n",
    "plt.hist(group_stats['control']['trx'], bins=40, normed=True, alpha=0.2);\n",
    "plt.show()\n",
    "\n",
    "plt.hist(group_stats['target']['spend'], bins=range(0, 120, 2), normed=True, alpha=0.2);\n",
    "plt.hist(group_stats['control']['spend'], bins=range(0, 120, 2), normed=True, alpha=0.2);\n",
    "plt.show()"
   ]
  },
  {
   "cell_type": "code",
   "execution_count": 9,
   "metadata": {},
   "outputs": [
    {
     "data": {
      "text/plain": [
       "0"
      ]
     },
     "execution_count": 9,
     "metadata": {},
     "output_type": "execute_result"
    }
   ],
   "source": [
    "population.world.world_time"
   ]
  },
  {
   "cell_type": "code",
   "execution_count": null,
   "metadata": {
    "collapsed": true
   },
   "outputs": [],
   "source": []
  }
 ],
 "metadata": {
  "kernelspec": {
   "display_name": "Python 2",
   "language": "python",
   "name": "python2"
  },
  "language_info": {
   "codemirror_mode": {
    "name": "ipython",
    "version": 2
   },
   "file_extension": ".py",
   "mimetype": "text/x-python",
   "name": "python",
   "nbconvert_exporter": "python",
   "pygments_lexer": "ipython2",
   "version": "2.7.13"
  }
 },
 "nbformat": 4,
 "nbformat_minor": 1
}
