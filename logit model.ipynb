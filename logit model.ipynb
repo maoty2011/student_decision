{
 "cells": [
  {
   "cell_type": "code",
   "execution_count": 2,
   "metadata": {
    "collapsed": false
   },
   "outputs": [],
   "source": [
    "import pandas as pd\n",
    "import numpy as np\n",
    "import matplotlib.pyplot as plt\n",
    "\n",
    "%matplotlib inline"
   ]
  },
  {
   "cell_type": "code",
   "execution_count": 3,
   "metadata": {
    "collapsed": true
   },
   "outputs": [],
   "source": [
    "def f(x):\n",
    "    beta = (-3.0, 0.1)\n",
    "    return 1.0/(1.0 + np.exp(-(beta[0] + beta[1]*x)))"
   ]
  },
  {
   "cell_type": "code",
   "execution_count": 23,
   "metadata": {
    "collapsed": true
   },
   "outputs": [],
   "source": [
    "def g(x):\n",
    "    return 1.0/(1.0 + np.exp(-(x)))"
   ]
  },
  {
   "cell_type": "code",
   "execution_count": 4,
   "metadata": {
    "collapsed": false
   },
   "outputs": [
    {
     "data": {
      "text/plain": [
       "[<matplotlib.lines.Line2D at 0x98c99b0>]"
      ]
     },
     "execution_count": 4,
     "metadata": {},
     "output_type": "execute_result"
    },
    {
     "data": {
      "image/png": "[encoded data removed]",
      "text/plain": [
       "<matplotlib.figure.Figure at 0x9807128>"
      ]
     },
     "metadata": {},
     "output_type": "display_data"
    }
   ],
   "source": [
    "xmin = -10\n",
    "xmax = 10\n",
    "n = 100\n",
    "x = np.linspace(xmin, xmax, n)\n",
    "y = map(f, x)\n",
    "\n",
    "plt.plot(x, y)"
   ]
  },
  {
   "cell_type": "code",
   "execution_count": 24,
   "metadata": {
    "collapsed": false
   },
   "outputs": [
    {
     "data": {
      "text/plain": [
       "[<matplotlib.lines.Line2D at 0xbb963c8>]"
      ]
     },
     "execution_count": 24,
     "metadata": {},
     "output_type": "execute_result"
    },
    {
     "data": {
      "image/png": "[encoded data removed]",
      "text/plain": [
       "<matplotlib.figure.Figure at 0xb4305c0>"
      ]
     },
     "metadata": {},
     "output_type": "display_data"
    }
   ],
   "source": [
    "xmin = -10\n",
    "xmax = 10\n",
    "n = 100\n",
    "x = np.linspace(xmin, xmax, n)\n",
    "y = map(g, x)\n",
    "\n",
    "plt.plot(x, y)"
   ]
  },
  {
   "cell_type": "code",
   "execution_count": 30,
   "metadata": {
    "collapsed": false
   },
   "outputs": [
    {
     "name": "stdout",
     "output_type": "stream",
     "text": [
      "-1.38629436112 0.2\n"
     ]
    }
   ],
   "source": [
    "y = 0.2\n",
    "x = np.log(y/(1.0-y))\n",
    "print x, g(x)"
   ]
  },
  {
   "cell_type": "code",
   "execution_count": 28,
   "metadata": {
    "collapsed": true
   },
   "outputs": [],
   "source": [
    "def g_inv(y):\n",
    "    return np.log(y/(1.0-y))"
   ]
  },
  {
   "cell_type": "code",
   "execution_count": 29,
   "metadata": {
    "collapsed": false
   },
   "outputs": [
    {
     "data": {
      "text/plain": [
       "[<matplotlib.lines.Line2D at 0xb9a3a90>]"
      ]
     },
     "execution_count": 29,
     "metadata": {},
     "output_type": "execute_result"
    },
    {
     "data": {
      "image/png": "[encoded data removed]",
      "text/plain": [
       "<matplotlib.figure.Figure at 0xc4cdac8>"
      ]
     },
     "metadata": {},
     "output_type": "display_data"
    }
   ],
   "source": [
    "ymin = 0.0\n",
    "ymax = 1.0\n",
    "n = 100\n",
    "y = np.linspace(ymin, ymax, n)\n",
    "x = map(g_inv, y)\n",
    "\n",
    "plt.plot(y, x)"
   ]
  },
  {
   "cell_type": "code",
   "execution_count": 5,
   "metadata": {
    "collapsed": false
   },
   "outputs": [
    {
     "name": "stdout",
     "output_type": "stream",
     "text": [
      "0 0.0474258731776 0 False\n",
      "1 0.0521535630784 0 False\n",
      "2 0.0573241758989 2 True\n",
      "3 0.0521535630784 2 False\n",
      "4 0.0573241758989 2 False\n",
      "5 0.062973356057 2 False\n",
      "6 0.0691384203433 2 False\n",
      "7 0.0758581800212 2 False\n",
      "8 0.0831726964939 2 False\n",
      "9 0.0911229610149 2 False\n"
     ]
    },
    {
     "data": {
      "text/plain": [
       "(array([ 1681.,  1841.,  1905.,  1721.,  1392.,   913.,   540.,   232.,\n",
       "           80.,    17.]),\n",
       " array([  1.,   4.,   7.,  10.,  13.,  16.,  19.,  22.,  25.,  28.,  31.]),\n",
       " <a list of 10 Patch objects>)"
      ]
     },
     "execution_count": 5,
     "metadata": {},
     "output_type": "execute_result"
    },
    {
     "data": {
      "image/png": "[encoded data removed]",
      "text/plain": [
       "<matplotlib.figure.Figure at 0x9859780>"
      ]
     },
     "metadata": {},
     "output_type": "display_data"
    }
   ],
   "source": [
    "purchase_times = list()\n",
    "t_last = 0\n",
    "for t in range(100000):\n",
    "    delta_t = t - t_last\n",
    "    p = f(delta_t)\n",
    "    purchase = np.random.random() < p\n",
    "    \n",
    "    if purchase:\n",
    "        t_last = t\n",
    "        purchase_times.append(delta_t)\n",
    "    \n",
    "    if t < 10:\n",
    "        print t, p, t_last, purchase\n",
    "        \n",
    "\n",
    "plt.hist(purchase_times)"
   ]
  },
  {
   "cell_type": "code",
   "execution_count": 6,
   "metadata": {
    "collapsed": false
   },
   "outputs": [],
   "source": [
    "def f(x):\n",
    "    beta = np.array((-3.0, 0.1, -0.04, 0.02, 0.05))\n",
    "    return 1.0/(1.0 + np.exp(-np.sum(beta*x)))"
   ]
  },
  {
   "cell_type": "code",
   "execution_count": 7,
   "metadata": {
    "collapsed": false
   },
   "outputs": [
    {
     "name": "stdout",
     "output_type": "stream",
     "text": [
      "0 0.0456511707844 0 False\n",
      "1 0.0502112731903 0 False\n",
      "2 0.0552005377829 0 False\n",
      "3 0.0606539033157 0 False\n",
      "4 0.0666080355751 0 False\n",
      "5 0.0731011734224 0 False\n",
      "6 0.0801729121728 0 False\n",
      "7 0.0878639148293 0 False\n",
      "8 0.0962155417107 0 False\n",
      "9 0.105269389523 9 True\n"
     ]
    },
    {
     "data": {
      "text/plain": [
       "(array([ 2144.,  1754.,  1743.,  1512.,  1256.,  1015.,   331.,   156.,\n",
       "           44.,    16.]),\n",
       " array([  1. ,   4.2,   7.4,  10.6,  13.8,  17. ,  20.2,  23.4,  26.6,\n",
       "         29.8,  33. ]),\n",
       " <a list of 10 Patch objects>)"
      ]
     },
     "execution_count": 7,
     "metadata": {},
     "output_type": "execute_result"
    },
    {
     "data": {
      "image/png": "[encoded data removed]",
      "text/plain": [
       "<matplotlib.figure.Figure at 0x994c0f0>"
      ]
     },
     "metadata": {},
     "output_type": "display_data"
    }
   ],
   "source": [
    "purchase_times = list()\n",
    "t_last = 0\n",
    "\n",
    "segment_red = 1\n",
    "segment_green = 0\n",
    "segment_blue = 0\n",
    "\n",
    "\n",
    "for t in range(100000):\n",
    "    delta_t = t - t_last\n",
    "    \n",
    "    x = np.array((1.0, delta_t, segment_red, segment_green, segment_blue))\n",
    "    \n",
    "    p = f(x)\n",
    "    purchase = np.random.random() < p\n",
    "    \n",
    "    if purchase:\n",
    "        t_last = t\n",
    "        purchase_times.append(delta_t)\n",
    "    \n",
    "    if t < 10:\n",
    "        print t, p, t_last, purchase\n",
    "        \n",
    "\n",
    "plt.hist(purchase_times)"
   ]
  },
  {
   "cell_type": "code",
   "execution_count": 18,
   "metadata": {
    "collapsed": false
   },
   "outputs": [
    {
     "name": "stdout",
     "output_type": "stream",
     "text": [
      "<type 'float'> 4.92060239431\n",
      "4.99253647758 9.95291135178\n"
     ]
    },
    {
     "data": {
      "image/png": "[encoded data removed]",
      "text/plain": [
       "<matplotlib.figure.Figure at 0xafbc6d8>"
      ]
     },
     "metadata": {},
     "output_type": "display_data"
    }
   ],
   "source": [
    "# verify the formulas for translating mean/variance into k/tehta parameterization as implmented in numpy\n",
    "\n",
    "mean = 5.0\n",
    "var  = 10.0\n",
    "\n",
    "size = 10**4\n",
    "\n",
    "# mean = k*theta\n",
    "# var = k*theta**2\n",
    "\n",
    "theta = var/mean\n",
    "k = mean**2/var\n",
    "\n",
    "z = np.random.gamma(shape=k, scale=theta, size=None)\n",
    "sample = np.random.gamma(shape=k, scale=theta, size=size)\n",
    "\n",
    "print type(z), z\n",
    "print np.mean(sample), np.var(sample)\n",
    "\n",
    "plt.hist(sample, bins=40, alpha=0.3, normed=True);\n",
    "\n"
   ]
  },
  {
   "cell_type": "code",
   "execution_count": 22,
   "metadata": {
    "collapsed": false
   },
   "outputs": [
    {
     "data": {
      "image/png": "[encoded data removed]",
      "text/plain": [
       "<matplotlib.figure.Figure at 0xb36eeb8>"
      ]
     },
     "metadata": {},
     "output_type": "display_data"
    }
   ],
   "source": [
    "# verify the formulas for translating mean/variance into k/tehta parameterization as implmented in numpy\n",
    "size = 10**4\n",
    "\n",
    "for i in range(1,10):\n",
    "\n",
    "    mean = 5.0 * i\n",
    "    var  = 2.0 * mean\n",
    "\n",
    "    theta = var/mean\n",
    "    k = mean**2/var\n",
    "\n",
    "    sample = np.random.gamma(shape=k, scale=theta, size=size)\n",
    "\n",
    "    plt.hist(sample, bins=40, alpha=0.3, normed=True);\n",
    "\n"
   ]
  },
  {
   "cell_type": "code",
   "execution_count": null,
   "metadata": {
    "collapsed": true
   },
   "outputs": [],
   "source": []
  }
 ],
 "metadata": {
  "anaconda-cloud": {},
  "kernelspec": {
   "display_name": "Python [conda_venv]",
   "language": "python",
   "name": "Python [conda_venv]"
  },
  "language_info": {
   "codemirror_mode": {
    "name": "ipython",
    "version": 2
   },
   "file_extension": ".py",
   "mimetype": "text/x-python",
   "name": "python",
   "nbconvert_exporter": "python",
   "pygments_lexer": "ipython2",
   "version": "2.7.12"
  }
 },
 "nbformat": 4,
 "nbformat_minor": 0
}
