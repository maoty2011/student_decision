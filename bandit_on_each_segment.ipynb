{
 "cells": [
  {
   "cell_type": "code",
   "execution_count": 1,
   "metadata": {
    "collapsed": true
   },
   "outputs": [],
   "source": [
    "from numpy import *\n",
    "from numpy.linalg import inv\n",
    "import numpy as np\n",
    "#from scipy.stats import beta\n",
    "import matplotlib.pyplot as plt\n",
    "import json\n",
    "from datetime import datetime, timedelta\n",
    "\n",
    "from population import Population\n",
    "from externalities import World, Offer, Transaction, Event, Categorical"
   ]
  },
  {
   "cell_type": "code",
   "execution_count": 14,
   "metadata": {},
   "outputs": [
    {
     "name": "stdout",
     "output_type": "stream",
     "text": [
      "[3]\n",
      "7\n"
     ]
    }
   ],
   "source": [
    "cluster_file_name = 'cluster_data/population_clustered.json'\n",
    "with open(cluster_file_name, 'r') as cluster_file:\n",
    "    for line_number, line in enumerate(cluster_file):\n",
    "        text = line.strip()\n",
    "        cluster_dict = json.loads(text)\n",
    "\n",
    "print cluster_dict['07dca6a6b8194d53a8d2b85c99346958']\n",
    "\n",
    "clist = []\n",
    "for val in cluster_dict.values():\n",
    "    clist += val\n",
    "print len(set(clist))\n"
   ]
  },
  {
   "cell_type": "code",
   "execution_count": 3,
   "metadata": {},
   "outputs": [
    {
     "data": {
      "text/plain": [
       "'cluster_data/transcript.json'"
      ]
     },
     "execution_count": 3,
     "metadata": {},
     "output_type": "execute_result"
    }
   ],
   "source": [
    "population_file_name = 'cluster_data/population.json'\n",
    "population = Population.from_json(population_file_name)\n",
    "\n",
    "population.transcript_file_name = 'cluster_data/transcript.json'\n",
    "population.transcript_file_name"
   ]
  },
  {
   "cell_type": "code",
   "execution_count": 10,
   "metadata": {},
   "outputs": [
    {
     "name": "stdout",
     "output_type": "stream",
     "text": [
      "f580ffd0ed3d43d0ac9abff05ba97d4d [3] <type 'list'>\n",
      "485\n",
      "139\n",
      "288\n",
      "587\n",
      "329\n",
      "95\n",
      "77\n"
     ]
    }
   ],
   "source": [
    "andy = population.people.keys()[1]\n",
    "print andy, cluster_dict[andy], type(cluster_dict[andy])\n",
    "\n",
    "total_cluster = 7\n",
    "group_dict = dict([(group_id, {'group': []}) for group_id in range(total_cluster)])\n",
    "for person_id in population.people:\n",
    "    #print cluster_dict[person_id]\n",
    "    current_group = cluster_dict[person_id][0]\n",
    "    group_dict[current_group]['group'].append(person_id)\n",
    "\n",
    "for i in range(total_cluster):\n",
    "    print len(group_dict[i]['group'])\n",
    "\n",
    "#population.people[group1[1]].to_serializable()"
   ]
  },
  {
   "cell_type": "code",
   "execution_count": 11,
   "metadata": {},
   "outputs": [
    {
     "name": "stdout",
     "output_type": "stream",
     "text": [
      "{u'75c154ff7a814cfeae81f21d5e0bf053': <externalities.Offer object at 0x000000000996E358>, u'dd3c72aaa97a4b548d5178708776b004': <externalities.Offer object at 0x000000000996E2E8>, u'5e91118fe9724c03bd6cce91e69eef49': <externalities.Offer object at 0x000000000996E5F8>} 3\n",
      "{u'75c154ff7a814cfeae81f21d5e0bf053': <externalities.Offer object at 0x000000000996E358>, u'dd3c72aaa97a4b548d5178708776b004': <externalities.Offer object at 0x000000000996E2E8>, u'5e91118fe9724c03bd6cce91e69eef49': <externalities.Offer object at 0x000000000996E5F8>} 3\n",
      "{u'75c154ff7a814cfeae81f21d5e0bf053': <externalities.Offer object at 0x000000000996E358>, u'dd3c72aaa97a4b548d5178708776b004': <externalities.Offer object at 0x000000000996E2E8>, u'5e91118fe9724c03bd6cce91e69eef49': <externalities.Offer object at 0x000000000996E5F8>} 3\n",
      "{u'75c154ff7a814cfeae81f21d5e0bf053': <externalities.Offer object at 0x000000000996E358>, u'dd3c72aaa97a4b548d5178708776b004': <externalities.Offer object at 0x000000000996E2E8>, u'5e91118fe9724c03bd6cce91e69eef49': <externalities.Offer object at 0x000000000996E5F8>} 3\n",
      "{u'75c154ff7a814cfeae81f21d5e0bf053': <externalities.Offer object at 0x000000000996E358>, u'dd3c72aaa97a4b548d5178708776b004': <externalities.Offer object at 0x000000000996E2E8>, u'5e91118fe9724c03bd6cce91e69eef49': <externalities.Offer object at 0x000000000996E5F8>} 3\n",
      "{u'75c154ff7a814cfeae81f21d5e0bf053': <externalities.Offer object at 0x000000000996E358>, u'dd3c72aaa97a4b548d5178708776b004': <externalities.Offer object at 0x000000000996E2E8>, u'5e91118fe9724c03bd6cce91e69eef49': <externalities.Offer object at 0x000000000996E5F8>} 3\n",
      "{u'75c154ff7a814cfeae81f21d5e0bf053': <externalities.Offer object at 0x000000000996E358>, u'dd3c72aaa97a4b548d5178708776b004': <externalities.Offer object at 0x000000000996E2E8>, u'5e91118fe9724c03bd6cce91e69eef49': <externalities.Offer object at 0x000000000996E5F8>} 3\n"
     ]
    }
   ],
   "source": [
    "import bandit\n",
    "\n",
    "myBandit_group = []\n",
    "for i in range(total_cluster):\n",
    "    myBandit_group.append(bandit.ContextualBandit(population))\n",
    "\n",
    "for i in range(total_cluster):\n",
    "    print myBandit_group[i].offer_list, myBandit_group[i].num_arms"
   ]
  },
  {
   "cell_type": "code",
   "execution_count": 12,
   "metadata": {},
   "outputs": [],
   "source": [
    "for i in range(total_cluster):\n",
    "    myBandit_group[i].add_results_from_group(population, group_dict[i]['group'])"
   ]
  },
  {
   "cell_type": "code",
   "execution_count": 13,
   "metadata": {},
   "outputs": [
    {
     "name": "stdout",
     "output_type": "stream",
     "text": [
      "[array([[ 1.12345733]]), array([[ 1.38697711]]), array([[ 1.19141158]])]\n",
      "dd3c72aaa97a4b548d5178708776b004\n",
      "[array([[ 1.29730268]]), array([[ 1.38697711]]), array([[ 1.3350561]])]\n",
      "dd3c72aaa97a4b548d5178708776b004\n",
      "[array([[ 1.6047569]]), array([[ 1.15481509]]), array([[ 1.3219299]])]\n",
      "75c154ff7a814cfeae81f21d5e0bf053\n",
      "[array([[ 1.21508862]]), array([[ 1.16091067]]), array([[ 1.14310352]])]\n",
      "75c154ff7a814cfeae81f21d5e0bf053\n",
      "[array([[ 1.15527902]]), array([[ 1.24501365]]), array([[ 1.24235327]])]\n",
      "dd3c72aaa97a4b548d5178708776b004\n",
      "[array([[ 1.71243758]]), array([[ 1.29490455]]), array([[ 1.43921021]])]\n",
      "75c154ff7a814cfeae81f21d5e0bf053\n",
      "[array([[ 1.68010688]]), array([[ 1.38697711]]), array([[ 1.39249252]])]\n",
      "75c154ff7a814cfeae81f21d5e0bf053\n"
     ]
    }
   ],
   "source": [
    "for i in range(total_cluster):\n",
    "    myBandit = myBandit_group[i]\n",
    "    #print myBandit.design_matrix\n",
    "    #print myBandit.respond_vector\n",
    "    #print myBandit.time_stamp\n",
    "    #print myBandit.offer_list\n",
    "\n",
    "    offer_result = myBandit.send_recommendation('adasjdhawhk')\n",
    "    print offer_result.id"
   ]
  },
  {
   "cell_type": "code",
   "execution_count": 8,
   "metadata": {},
   "outputs": [
    {
     "data": {
      "text/plain": [
       "{'channel': {'names': [u'web', u'email', u'mobile', u'social'],\n",
       "  'weights': [1, 1, 1, 0]},\n",
       " 'completed': False,\n",
       " 'difficulty': 5,\n",
       " 'id': u'75c154ff7a814cfeae81f21d5e0bf053',\n",
       " 'offer_type': {'names': [u'bogo', u'discount', u'informational'],\n",
       "  'weights': [0, 1, 0]},\n",
       " 'progress': 0.0,\n",
       " 'reward': 2,\n",
       " 'timestamp': 0,\n",
       " 'type': 'offer',\n",
       " 'valid_from': 0,\n",
       " 'valid_until': 168}"
      ]
     },
     "execution_count": 8,
     "metadata": {},
     "output_type": "execute_result"
    }
   ],
   "source": [
    "population.portfolio.values()[0].to_serializable()"
   ]
  },
  {
   "cell_type": "code",
   "execution_count": null,
   "metadata": {
    "collapsed": true
   },
   "outputs": [],
   "source": []
  }
 ],
 "metadata": {
  "kernelspec": {
   "display_name": "Python 2",
   "language": "python",
   "name": "python2"
  },
  "language_info": {
   "codemirror_mode": {
    "name": "ipython",
    "version": 2
   },
   "file_extension": ".py",
   "mimetype": "text/x-python",
   "name": "python",
   "nbconvert_exporter": "python",
   "pygments_lexer": "ipython2",
   "version": "2.7.13"
  }
 },
 "nbformat": 4,
 "nbformat_minor": 2
}
