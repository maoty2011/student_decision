{
 "cells": [
  {
   "cell_type": "code",
   "execution_count": 1,
   "metadata": {
    "collapsed": true
   },
   "outputs": [],
   "source": [
    "import pandas as pd\n",
    "import numpy as np\n",
    "import matplotlib.pyplot as plt\n",
    "import logging\n",
    "logger = logging.getLogger()\n",
    "logger.setLevel(logging.DEBUG)\n",
    "\n",
    "%matplotlib inline"
   ]
  },
  {
   "cell_type": "code",
   "execution_count": 2,
   "metadata": {
    "collapsed": true
   },
   "outputs": [],
   "source": [
    "from person import Person\n",
    "from externalities import Categorical, Offer"
   ]
  },
  {
   "cell_type": "code",
   "execution_count": 3,
   "metadata": {
    "collapsed": false
   },
   "outputs": [
    {
     "name": "stdout",
     "output_type": "stream",
     "text": [
      "timestamp: int between 0 and 999999999\n",
      "valid_from: int between 0 and 999999999\n",
      "valid_to: int between 0 and 999999999\n",
      "difficulty: positive numeric\n",
      "reward: positive numeric\n",
      "channel: Categorical(['web' 'email' 'mobile' 'social'])\n",
      "type: Categorical(['bogo' 'discount' 'informational'])\n"
     ]
    }
   ],
   "source": [
    "Offer.print_help()"
   ]
  },
  {
   "cell_type": "code",
   "execution_count": 4,
   "metadata": {
    "collapsed": false
   },
   "outputs": [],
   "source": [
    "offer_channel = Categorical(('web', 'email', 'mobile', 'social'), (1, 1, 1, 1))\n",
    "offer_type = Categorical(('bogo', 'discount', 'informational'), (0, 1, 0))\n",
    "\n",
    "discount = Offer(0, valid_from=10, valid_until=20, difficulty=10, reward=2, channel=offer_channel, type=offer_type)"
   ]
  },
  {
   "cell_type": "code",
   "execution_count": 5,
   "metadata": {
    "collapsed": false
   },
   "outputs": [
    {
     "name": "stdout",
     "output_type": "stream",
     "text": [
      "Categorical(['bogo','discount','informational'])\n"
     ]
    }
   ],
   "source": [
    "print 'Categorical([{}])'.format(','.join(map(lambda s: \"'\" + s + \"'\", offer_type.names)))"
   ]
  },
  {
   "cell_type": "code",
   "execution_count": 6,
   "metadata": {
    "collapsed": false
   },
   "outputs": [
    {
     "name": "stdout",
     "output_type": "stream",
     "text": [
      "id: uuid.uuid4() (set automatically)\n",
      "dob: 'YYYYMMDD'\n",
      "gender: ['M', 'F', 'O']\n",
      "became_member_on: 'YYYYMMDD'\n",
      "income: positive numeric\n",
      "taste: Categorical(['sweet','sour','salty','bitter','umami'])\n",
      "marketing_segment: Categorical(['front page','local','entertainment','sports','opinion','comics'])\n",
      "\n",
      "last_transaction: Transaction\n",
      "last_unviewed_offer: Offer\n",
      "last_viewed_offer: Offer\n",
      "history: list of Offers and Transactions sorted by Event timestamps\n",
      "\n",
      "view_offer_sensitivity: Categorical(['background','offer_age','web','email','mobile','social'])\n",
      "make_purchase_sensitivity: Categorical(['background','time_since_last_transaction','time_since_last_viewed_offer','viewed_active_offer','web','email','mobile','social'])\n",
      "purchase_amount_sensitivity: Categorical(['background','income_adjusted_purchase_sensitivity','front page','local','entertainment','sports','opinion','comics','sweet','sour','salty','bitter','umami'])\n"
     ]
    }
   ],
   "source": [
    "Person.print_help()"
   ]
  },
  {
   "cell_type": "code",
   "execution_count": 7,
   "metadata": {
    "collapsed": false
   },
   "outputs": [],
   "source": [
    "person_taste = Categorical(['sweet','sour','salty','bitter','umami'],\n",
    "                           [1,1,0,0,0])\n",
    "\n",
    "person_marketing_segment = Categorical(['front page','local','entertainment','sports','opinion','comics'],\n",
    "                                       [1, 1, 0, 0, 0, 1])\n",
    "\n",
    "person_view_offer_sensitivity = Categorical(['background', 'offer_age','web','email','mobile', 'social'],\n",
    "                                            [0, -1, 1, 1, 1, 1])\n",
    "\n",
    "person_make_purchase_sensitivity = Categorical(['background', 'time_since_last_transaction','time_since_last_viewed_offer','viewed_active_offer','web','email','mobile'])\n",
    "person_purchase_amount_sensitivity = Categorical(['background','income_adjusted_purchase_sensitivity','front page','local','entertainment','sports','opinion','comics','sweet','sour','salty','bitter','umami'])\n",
    "\n",
    "person = Person(became_member_on='20170716', view_offer_sensitivity=person_view_offer_sensitivity)\n",
    "person.last_unviewed_offer = discount"
   ]
  },
  {
   "cell_type": "code",
   "execution_count": 8,
   "metadata": {
    "collapsed": false
   },
   "outputs": [
    {
     "data": {
      "text/plain": [
       "{'difficulty': 10,\n",
       " 'reward': 2,\n",
       " 'timestamp': 0,\n",
       " 'valid_from': 10,\n",
       " 'valid_until': 20}"
      ]
     },
     "execution_count": 8,
     "metadata": {},
     "output_type": "execute_result"
    }
   ],
   "source": [
    "discount.__dict__"
   ]
  },
  {
   "cell_type": "code",
   "execution_count": 9,
   "metadata": {
    "collapsed": false
   },
   "outputs": [
    {
     "data": {
      "text/plain": [
       "{'became_member_on': '20170716',\n",
       " 'dob': '19010101',\n",
       " 'gender': None,\n",
       " 'history': [],\n",
       " 'id': UUID('f419e969-ab45-4b19-b1e5-25e5a0171c3f'),\n",
       " 'income': None,\n",
       " 'last_transaction': None,\n",
       " 'last_unviewed_offer': <externalities.Offer at 0x9721978>,\n",
       " 'last_viewed_offer': None,\n",
       " 'make_purchase_sensitivity': <externalities.Categorical at 0x97af860>,\n",
       " 'marketing_segment': <externalities.Categorical at 0x97af7b8>,\n",
       " 'purchase_amount_sensitivity': <externalities.Categorical at 0x97af908>,\n",
       " 'taste': <externalities.Categorical at 0x3a695f8>,\n",
       " 'view_offer_sensitivity': <externalities.Categorical at 0x97af6a0>}"
      ]
     },
     "execution_count": 9,
     "metadata": {},
     "output_type": "execute_result"
    }
   ],
   "source": [
    "person.__dict__"
   ]
  },
  {
   "cell_type": "code",
   "execution_count": 10,
   "metadata": {
    "collapsed": false
   },
   "outputs": [
    {
     "data": {
      "text/plain": [
       "<externalities.Offer at 0x9721978>"
      ]
     },
     "execution_count": 10,
     "metadata": {},
     "output_type": "execute_result"
    }
   ],
   "source": [
    "person.view_offer(0)"
   ]
  },
  {
   "cell_type": "code",
   "execution_count": 11,
   "metadata": {
    "collapsed": false
   },
   "outputs": [
    {
     "data": {
      "text/plain": [
       "{'became_member_on': '20170716',\n",
       " 'dob': '19010101',\n",
       " 'gender': None,\n",
       " 'history': [],\n",
       " 'id': UUID('f419e969-ab45-4b19-b1e5-25e5a0171c3f'),\n",
       " 'income': None,\n",
       " 'last_transaction': None,\n",
       " 'last_unviewed_offer': None,\n",
       " 'last_viewed_offer': <externalities.Offer at 0x9721978>,\n",
       " 'make_purchase_sensitivity': <externalities.Categorical at 0x97af860>,\n",
       " 'marketing_segment': <externalities.Categorical at 0x97af7b8>,\n",
       " 'purchase_amount_sensitivity': <externalities.Categorical at 0x97af908>,\n",
       " 'taste': <externalities.Categorical at 0x3a695f8>,\n",
       " 'view_offer_sensitivity': <externalities.Categorical at 0x97af6a0>}"
      ]
     },
     "execution_count": 11,
     "metadata": {},
     "output_type": "execute_result"
    }
   ],
   "source": [
    "person.__dict__"
   ]
  },
  {
   "cell_type": "code",
   "execution_count": 12,
   "metadata": {
    "collapsed": true
   },
   "outputs": [],
   "source": [
    "def g(x):\n",
    "    return 1.0/(1.0 + np.exp(-x))\n",
    "\n",
    "def g_inv(y):\n",
    "    return np.log(y/(1.0-y))"
   ]
  },
  {
   "cell_type": "code",
   "execution_count": 13,
   "metadata": {
    "collapsed": false,
    "scrolled": false
   },
   "outputs": [
    {
     "data": {
      "text/plain": [
       "0.19589999999999999"
      ]
     },
     "execution_count": 13,
     "metadata": {},
     "output_type": "execute_result"
    }
   ],
   "source": [
    "# 1 tick = 1 hour\n",
    "# likelihood of viewing an offer right away is \n",
    "# an offer is forgotten after 1 month = 1 * 24 * 30 ticks\n",
    "\n",
    "# some state values are static and some are dynamic\n",
    "# dynamic: offer_age\n",
    "#\n",
    "# static: channels (and all set equal to 1 for convenience)\n",
    "# background sensitivity is the sum of the sensitivities of the static state variables\n",
    "# a zero or negative sensitivity is relative - if all sensitivities are set to  0, then the background level is 50%\n",
    "# if two are +1 and two are -1, then there is a greater reaction when only the positive channels are present \n",
    "\n",
    "\n",
    "# if a channel has negative sensitivity and it is present, then a person is less likely to view: this seems unrealistic\n",
    "# if a channel has zero sensitivity and it is present, then a person is equally likely to view: seems realistic\n",
    "# if a channel has positive sensitivity and it is present, then a person is more likely to view: seems realistic\n",
    "# therefore we need a background level, otherwise it's 50% or greater by default\n",
    "\n",
    "person_view_offer_sensitivity = Categorical(['background', 'offer_age','web','email','mobile', 'social'],\n",
    "                                            [g_inv(0.20) - 4, -1, 0, 1, 1, 2])\n",
    "person = Person(became_member_on='20170716', view_offer_sensitivity=person_view_offer_sensitivity)\n",
    "\n",
    "history = list()\n",
    "for i in range(10000):\n",
    "    person.last_unviewed_offer = discount\n",
    "    if person.view_offer(0) is not None:\n",
    "        # print i, 'Viewed'\n",
    "        history.append(1)\n",
    "    else:\n",
    "        # print i, 'Not viewed'\n",
    "        history.append(0)\n",
    "        \n",
    "np.mean(history)"
   ]
  },
  {
   "cell_type": "code",
   "execution_count": 14,
   "metadata": {
    "collapsed": false
   },
   "outputs": [
    {
     "data": {
      "text/plain": [
       "-0.0063821109029647081"
      ]
     },
     "execution_count": 14,
     "metadata": {},
     "output_type": "execute_result"
    }
   ],
   "source": [
    "g_inv(0.01)/float(1*24*30)"
   ]
  },
  {
   "cell_type": "code",
   "execution_count": 15,
   "metadata": {
    "collapsed": false
   },
   "outputs": [],
   "source": [
    "# 1 tick = 1 hour\n",
    "# likelihood of viewing an offer right away is \n",
    "# an offer is forgotten after 1 month = 1 * 24 * 30 ticks\n",
    "\n",
    "# some state values are static and some are dynamic\n",
    "# dynamic: offer_age\n",
    "#\n",
    "# static: channels (and all set equal to 1 for convenience)\n",
    "# background sensitivity is the sum of the sensitivities of the static state variables\n",
    "# a zero or negative sensitivity is relative - if all sensitivities are set to  0, then the background level is 50%\n",
    "# if two are +1 and two are -1, then there is a greater reaction when only the positive channels are present \n",
    "\n",
    "\n",
    "# if a channel has negative sensitivity and it is present, then a person is less likely to view: this seems unrealistic\n",
    "# if a channel has zero sensitivity and it is present, then a person is equally likely to view: seems realistic\n",
    "# if a channel has positive sensitivity and it is present, then a person is more likely to view: seems realistic\n",
    "# therefore we need a background level, otherwise it's 50% or greater by default\n",
    "\n",
    "person_view_offer_sensitivity = Categorical(['background', \n",
    "                                             'offer_age',\n",
    "                                             'web','email','mobile', 'social'],\n",
    "                                            [g_inv(0.20) - 4, \n",
    "                                             g_inv(0.01)/float(1*24*30), \n",
    "                                             0, 1, 1, 2])\n",
    "person = Person(became_member_on='20170716', view_offer_sensitivity=person_view_offer_sensitivity)\n",
    "\n",
    "n_trials = 100\n",
    "n_ticks = 500\n",
    "\n",
    "histories = list()\n",
    "for trial in range(n_trials):\n",
    "    history = list()\n",
    "    for i in range(n_ticks):\n",
    "        person.last_unviewed_offer = discount\n",
    "        if person.view_offer(i) is not None:\n",
    "            # print i, 'Viewed'\n",
    "            history.append(1)\n",
    "        else:\n",
    "            # print i, 'Not viewed'\n",
    "            history.append(0)\n",
    "    histories.append(history)\n",
    "    \n",
    "mean_history = list()\n",
    "for i in range(n_ticks):\n",
    "    mean_history.append(np.mean([histories[trial][i] for trial in range(n_trials)]))\n",
    "    "
   ]
  },
  {
   "cell_type": "code",
   "execution_count": 16,
   "metadata": {
    "collapsed": false
   },
   "outputs": [
    {
     "data": {
      "text/plain": [
       "0.54914693962071626"
      ]
     },
     "execution_count": 16,
     "metadata": {},
     "output_type": "execute_result"
    }
   ],
   "source": [
    "g(g_inv(0.90) - 0 - 1 - 1 - 2 + 0 + 1 + 1 + 0)"
   ]
  },
  {
   "cell_type": "code",
   "execution_count": 17,
   "metadata": {
    "collapsed": false
   },
   "outputs": [
    {
     "data": {
      "text/plain": [
       "[<matplotlib.lines.Line2D at 0x990a7f0>]"
      ]
     },
     "execution_count": 17,
     "metadata": {},
     "output_type": "execute_result"
    },
    {
     "data": {
      "image/png": "[encoded data removed]",
      "text/plain": [
       "<matplotlib.figure.Figure at 0x97210f0>"
      ]
     },
     "metadata": {},
     "output_type": "display_data"
    }
   ],
   "source": [
    "plt.plot(range(n_ticks), mean_history, 'o')"
   ]
  },
  {
   "cell_type": "code",
   "execution_count": 18,
   "metadata": {
    "collapsed": false
   },
   "outputs": [
    {
     "data": {
      "text/plain": [
       "-0.0063821109029647081"
      ]
     },
     "execution_count": 18,
     "metadata": {},
     "output_type": "execute_result"
    }
   ],
   "source": [
    "g_inv(0.01)/float(1*24*30)"
   ]
  }
 ],
 "metadata": {
  "anaconda-cloud": {},
  "kernelspec": {
   "display_name": "Python [conda_venv]",
   "language": "python",
   "name": "Python [conda_venv]"
  },
  "language_info": {
   "codemirror_mode": {
    "name": "ipython",
    "version": 2
   },
   "file_extension": ".py",
   "mimetype": "text/x-python",
   "name": "python",
   "nbconvert_exporter": "python",
   "pygments_lexer": "ipython2",
   "version": "2.7.12"
  }
 },
 "nbformat": 4,
 "nbformat_minor": 0
}
