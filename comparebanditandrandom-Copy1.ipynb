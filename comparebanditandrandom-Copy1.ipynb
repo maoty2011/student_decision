{
 "cells": [
  {
   "cell_type": "code",
   "execution_count": 13,
   "metadata": {
    "collapsed": true
   },
   "outputs": [],
   "source": [
    "import pandas as pd\n",
    "import numpy as np\n",
    "import matplotlib.pyplot as plt\n",
    "import json\n",
    "from datetime import datetime, timedelta\n",
    "\n",
    "from population import Population\n",
    "\n",
    "%matplotlib inline"
   ]
  },
  {
   "cell_type": "code",
   "execution_count": 14,
   "metadata": {
    "collapsed": true
   },
   "outputs": [],
   "source": [
    "population_file_name = 'data/population.json'\n",
    "population = Population.from_json(population_file_name)\n",
    "population_random_file_name='cdata/population.json'\n",
    "population_random=Population.from_json(population_random_file_name)\n",
    "            "
   ]
  },
  {
   "cell_type": "code",
   "execution_count": 15,
   "metadata": {
    "collapsed": true
   },
   "outputs": [],
   "source": [
    "stats_random = dict([(person_id, {'group': (person_id, 'control'),\n",
    "                               'received': 0,\n",
    "                               'viewed': 0,\n",
    "                               'completed': 0,\n",
    "                               'trx': 0,\n",
    "                               'spend': 0.00}) for person_id in population_random.people])\n",
    "\n",
    "revenue_history_random = dict()\n",
    "\n",
    "read_files=[]\n",
    "for k in range(0,10):\n",
    "    read_files.append('cdata%s/transcript.json' % k)\n",
    "    for f in read_files:\n",
    "        with open(f, 'r') as transcript_file:\n",
    "            for line_number, line in enumerate(transcript_file):\n",
    "                text = line.strip()\n",
    "                if text != '':\n",
    "                    record = json.loads(text)\n",
    "                else:\n",
    "                    continue\n",
    "\n",
    "                if record['event'] == 'offer received':\n",
    "                    stats_random[record['person']]['received'] += 1\n",
    "\n",
    "                if record['event'] == 'offer viewed':\n",
    "                    stats_random[record['person']]['viewed'] += 1\n",
    "\n",
    "                if record['event'] == 'offer completed':\n",
    "                    stats_random[record['person']]['completed'] += 1\n",
    "                    t = record['time']\n",
    "                    revenue_history_random.setdefault(t, list())\n",
    "                    revenue_history_random[t].append(-record['value']['reward'])\n",
    "\n",
    "                if record['event'] == 'transaction':\n",
    "                    stats_random[record['person']]['trx'] += 1\n",
    "                    stats_random[record['person']]['spend'] += record['value']['amount']\n",
    "                    t = record['time']\n",
    "                    revenue_history_random.setdefault(t, list())\n",
    "                    revenue_history_random[t].append(record['value']['amount'])\n"
   ]
  },
  {
   "cell_type": "code",
   "execution_count": 16,
   "metadata": {
    "collapsed": true
   },
   "outputs": [],
   "source": [
    "min_t = min(revenue_history_random.keys())\n",
    "cumulative_reward_random = [(min_t,0),]\n",
    "for t, rev in sorted(revenue_history_random.iteritems()):\n",
    "    np.random.shuffle(rev)\n",
    "    for x in rev:\n",
    "        cumulative_reward_random.append((t, cumulative_reward_random[-1][1] + x))\n"
   ]
  },
  {
   "cell_type": "code",
   "execution_count": 17,
   "metadata": {
    "collapsed": true
   },
   "outputs": [],
   "source": [
    "newarray_random=[[0,0]]\n",
    "for entry in cumulative_reward_random:\n",
    "    if entry[0]>newarray_random[len(newarray_random)-1][0]:\n",
    "        newarray_random.append([entry[0], entry[1]])\n",
    "    elif entry[1]>newarray_random[len(newarray_random)-1][1]:\n",
    "        newarray_random[len(newarray_random)-1][1]=entry[1]\n",
    " "
   ]
  },
  {
   "cell_type": "code",
   "execution_count": 19,
   "metadata": {},
   "outputs": [
    {
     "data": {
      "text/plain": [
       "[<matplotlib.lines.Line2D at 0x1f06bf60>,\n",
       " <matplotlib.lines.Line2D at 0xd473a90>]"
      ]
     },
     "execution_count": 19,
     "metadata": {},
     "output_type": "execute_result"
    },
    {
     "data": {
      "image/png": "[encoded data removed]",
      "text/plain": [
       "<matplotlib.figure.Figure at 0x1a2e4978>"
      ]
     },
     "metadata": {},
     "output_type": "display_data"
    }
   ],
   "source": [
    "plt.plot(newarray_random,'r--')"
   ]
  },
  {
   "cell_type": "code",
   "execution_count": null,
   "metadata": {
    "collapsed": true
   },
   "outputs": [],
   "source": [
    "plt.plot(cumulative_reward_array)"
   ]
  },
  {
   "cell_type": "code",
   "execution_count": null,
   "metadata": {
    "collapsed": true
   },
   "outputs": [],
   "source": []
  }
 ],
 "metadata": {
  "kernelspec": {
   "display_name": "Python 2",
   "language": "python",
   "name": "python2"
  },
  "language_info": {
   "codemirror_mode": {
    "name": "ipython",
    "version": 2
   },
   "file_extension": ".py",
   "mimetype": "text/x-python",
   "name": "python",
   "nbconvert_exporter": "python",
   "pygments_lexer": "ipython2",
   "version": "2.7.13"
  }
 },
 "nbformat": 4,
 "nbformat_minor": 2
}
